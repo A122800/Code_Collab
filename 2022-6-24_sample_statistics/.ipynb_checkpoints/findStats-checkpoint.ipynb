{
 "cells": [
  {
   "cell_type": "code",
   "execution_count": 13,
   "id": "7132e08c-1bbd-4f23-a1d4-e2c2eee7b7ea",
   "metadata": {},
   "outputs": [],
   "source": [
    "class Solution:\n",
    "    def sampleStats(self, count: list[int]) -> list[float]:\n",
    "        # Find numbers with non-zero frequencies\n",
    "        num = [i for i in range(0,len(count)) if count[i]!=0]\n",
    "\n",
    "        # Min, max\n",
    "        min_val = min(num)\n",
    "        max_val = max(num)\n",
    "\n",
    "        # Find simple sum and a culmulating count list\n",
    "        sum_val = 0 # sum\n",
    "        cnt_tot = 0\n",
    "        culm_cnt = [] # Culmulating count\n",
    "        for n in num:\n",
    "            sum_val += count[n]*n\n",
    "            cnt_tot += count[n]\n",
    "            culm_cnt.append(cnt_tot)\n",
    "\n",
    "        # Median\n",
    "        # Find the median or lower of the two middle numbers\n",
    "        if (cnt_tot % 2) == 0: # if count is even\n",
    "            cnt_mid = cnt_tot/2\n",
    "        else:\n",
    "            cnt_mid = cnt_tot/2    \n",
    "        valid_cnt = [v for v in culm_cnt if v >= cnt_mid]\n",
    "        mid_cnt_val = valid_cnt[0] # smallest number where culmulating count is geq\n",
    "        num_idx = culm_cnt.index(mid_cnt_val)\n",
    "        mid_num = num[num_idx]\n",
    "\n",
    "        # If count is even, we check if the other number in the average is greater\n",
    "        # than mid_num\n",
    "        if (cnt_tot % 2) == 0:\n",
    "            if mid_cnt_val == cnt_mid: #smaller of the 2 in the average == culm_sum\n",
    "                mid_num_u = num[num_idx+1]\n",
    "                median_val = (mid_num_u+mid_num)/2\n",
    "            else:\n",
    "                median_val = mid_num\n",
    "        else:\n",
    "            median_val = mid_num\n",
    "\n",
    "        # Mean, Mode\n",
    "        mean_val = sum_val/sum(count)\n",
    "        mode_val = count.index(max(count))\n",
    "\n",
    "        stats = [min_val, max_val, mean_val, median_val, mode_val]\n",
    "        return stats"
   ]
  },
  {
   "cell_type": "code",
   "execution_count": null,
   "id": "00002204-64e7-4845-a21a-aadf7d6248a7",
   "metadata": {},
   "outputs": [],
   "source": [
    "count = [0,0,0,0,0,0,0,0,0,0,0,0,0,0,0,0,0,0,0,0,0,0,0,0,0,0,0,0,0,0,0,0,0,0,0,0,0,0,0,0,0,0,0,0,0,0,0,0,0,0,0,0,0,0,0,0,0,0,0,0,0,0,0,0,0,0,0,0,0,0,0,0,0,0,0,0,0,0,0,0,0,0,0,0,0,0,0,0,0,0,0,0,0,0,0,0,0,0,0,0,0,0,0,0,0,0,0,0,0,0,0,0,0,0,0,0,0,0,0,0,0,0,0,0,0,0,0,0,0,0,0,0,0,0,0,0,0,0,0,0,0,0,0,0,0,0,0,0,0,0,0,0,0,0,0,0,0,0,0,0,0,0,0,0,0,0,0,0,0,0,0,0,0,0,0,0,0,0,0,0,0,0,0,0,0,0,0,0,0,0,0,1,0,0,0,0,0,0,0,1,0,0,0,0,3,0,0,0,0,0,0,0,0,0,0,0,0,0,0,0,0,0,0,0,0,0,0,0,0,0,0,0,0,0,0,0,0,0,0,0,0,0,0,0,0,0,0,0,0,0,0,0,0,0,0,0]"
   ]
  },
  {
   "cell_type": "code",
   "execution_count": 17,
   "id": "190a2a61-9dca-49ef-8662-5d682e21238b",
   "metadata": {},
   "outputs": [
    {
     "data": {
      "text/plain": [
       "[191, 204, 200.4, 204, 204]"
      ]
     },
     "execution_count": 17,
     "metadata": {},
     "output_type": "execute_result"
    }
   ],
   "source": [
    "s = Solution()\n",
    "s.sampleStats(count)"
   ]
  }
 ],
 "metadata": {
  "kernelspec": {
   "display_name": "Python 3 (ipykernel)",
   "language": "python",
   "name": "python3"
  },
  "language_info": {
   "codemirror_mode": {
    "name": "ipython",
    "version": 3
   },
   "file_extension": ".py",
   "mimetype": "text/x-python",
   "name": "python",
   "nbconvert_exporter": "python",
   "pygments_lexer": "ipython3",
   "version": "3.9.6"
  }
 },
 "nbformat": 4,
 "nbformat_minor": 5
}
